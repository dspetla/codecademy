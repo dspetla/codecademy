{
 "cells": [
  {
   "cell_type": "markdown",
   "metadata": {},
   "source": [
    "# This is Jeopardy!"
   ]
  },
  {
   "cell_type": "markdown",
   "metadata": {},
   "source": [
    "#### Overview"
   ]
  },
  {
   "cell_type": "markdown",
   "metadata": {},
   "source": [
    "This project is slightly different than others you have encountered thus far. Instead of a step-by-step tutorial, this project contains a series of open-ended requirements which describe the project you'll be building. There are many possible ways to correctly fulfill all of these requirements, and you should expect to use the internet, Codecademy, and/or other resources when you encounter a problem that you cannot easily solve."
   ]
  },
  {
   "cell_type": "markdown",
   "metadata": {},
   "source": [
    "#### Project Goals"
   ]
  },
  {
   "cell_type": "markdown",
   "metadata": {},
   "source": [
    "You will work to write several functions that investigate a dataset of _Jeopardy!_ questions and answers. Filter the dataset for topics that you're interested in, compute the average difficulty of those questions, and train to become the next Jeopardy champion!"
   ]
  },
  {
   "cell_type": "markdown",
   "metadata": {},
   "source": [
    "## Prerequisites"
   ]
  },
  {
   "cell_type": "markdown",
   "metadata": {},
   "source": [
    "In order to complete this project, you should have completed the Pandas lessons in the <a href=\"https://www.codecademy.com/learn/paths/analyze-data-with-python\">Analyze Data with Python Skill Path</a>. You can also find those lessons in the <a href=\"https://www.codecademy.com/learn/data-processing-pandas\">Data Analysis with Pandas course</a> or the <a href=\"https://www.codecademy.com/learn/paths/data-science/\">Data Scientist Career Path</a>.\n",
    "\n",
    "Finally, the <a href=\"https://www.codecademy.com/learn/practical-data-cleaning\">Practical Data Cleaning</a> course may also be helpful."
   ]
  },
  {
   "cell_type": "markdown",
   "metadata": {},
   "source": [
    "## Project Requirements"
   ]
  },
  {
   "cell_type": "markdown",
   "metadata": {},
   "source": [
    "1. We've provided a csv file containing data about the game show _Jeopardy!_ in a file named `jeopardy.csv`. Load the data into a DataFrame and investigate its contents. Try to print out specific columns.\n",
    "\n",
    "   Note that in order to make this project as \"real-world\" as possible, we haven't modified the data at all - we're giving it to you exactly how we found it. As a result, this data isn't as \"clean\" as the datasets you normally find on Codecademy. More specifically, there's something odd about the column names. After you figure out the problem with the column names, you may want to rename them to make your life easier for the rest of the project.\n",
    "   \n",
    "   In order to display the full contents of a column, we've added this line of code for you:\n",
    "   \n",
    "   ```py\n",
    "   pd.set_option('display.max_colwidth', None)\n",
    "   ```"
   ]
  },
  {
   "cell_type": "code",
   "execution_count": 1,
   "metadata": {},
   "outputs": [],
   "source": [
    "import pandas as pd\n",
    "pd.set_option('display.max_colwidth', None)"
   ]
  },
  {
   "cell_type": "code",
   "execution_count": 2,
   "metadata": {},
   "outputs": [],
   "source": [
    "df = pd.read_csv('jeopardy.csv')"
   ]
  },
  {
   "cell_type": "code",
   "execution_count": null,
   "metadata": {},
   "outputs": [],
   "source": [
    "df"
   ]
  },
  {
   "cell_type": "markdown",
   "metadata": {},
   "source": [
    "2. Write a function that filters the dataset for questions that contains all of the words in a list of words. For example, when the list `[\"King\", \"England\"]` was passed to our function, the function returned a DataFrame of 49 rows. Every row had the strings `\"King\"` and `\"England\"` somewhere in its `\" Question\"`.\n",
    "\n",
    "   Test your function by printing out the column containing the question of each row of the dataset."
   ]
  },
  {
   "cell_type": "code",
   "execution_count": 7,
   "metadata": {},
   "outputs": [
    {
     "data": {
      "text/plain": [
       "Index(['Show Number', ' Air Date', ' Round', ' Category', ' Value',\n",
       "       ' Question', ' Answer'],\n",
       "      dtype='object')"
      ]
     },
     "execution_count": 7,
     "metadata": {},
     "output_type": "execute_result"
    }
   ],
   "source": [
    "df.columns"
   ]
  },
  {
   "cell_type": "code",
   "execution_count": 3,
   "metadata": {},
   "outputs": [],
   "source": [
    "def filter_questions_by_keywords(df, column_name, search_strings):\n",
    "    \"\"\"\n",
    "    Filters rows in a DataFrame where the specified column contains any of the search strings.\n",
    "    \n",
    "    Parameters:\n",
    "    df (pd.DataFrame): The DataFrame to filter.\n",
    "    column_name (str): The name of the column to search within.\n",
    "    search_strings (list): A list of strings to search for.\n",
    "    \n",
    "    Returns:\n",
    "    pd.Series: A Series containing the filtered rows.\n",
    "    \"\"\"\n",
    "    # Combine the list into a single regex pattern with word boundaries and optional possessive\n",
    "    pattern = r'\\b(?:' + '|'.join(search_strings) + r\")(?:'s)?\\b\"\n",
    "    \n",
    "    # Select rows where the specified column contains any of the search strings\n",
    "    filtered_df = df[df[column_name].str.contains(pattern, case=False, regex=True)]\n",
    "    \n",
    "    return filtered_df"
   ]
  },
  {
   "cell_type": "code",
   "execution_count": 22,
   "metadata": {},
   "outputs": [
    {
     "name": "stdout",
     "output_type": "stream",
     "text": [
      "116                                               She was born in Virginia around 1596 & died in Kent, England in 1617\n",
      "146                    After a 15-year stay in England, this proprietor of Pennsylvania returned to his colony in 1699\n",
      "296                           On December 27, 1831 it departed Plymouth, England to map the coastline of South America\n",
      "386                             The Tanglewood Music Festival is a summer highlight in Lenox in this New England state\n",
      "621                                                 Famous landmark composed of chalk in the county of Kent in England\n",
      "                                                              ...                                                     \n",
      "215892                                                                    New England College & Daniel Webster College\n",
      "216021                His nickname was \"Bertie\", but he used this name & number when he became king of England in 1901\n",
      "216035            In 1699 Capt. Kidd was out pirating for loot & this scientist was made master of the Mint in England\n",
      "216550    You have to \"owe it\" to Oglethorpe; he wanted GA. to be a haven for men imprisoned for this crime in England\n",
      "216789              This kingdom of England grew from 2 settlements, one founded around 495 by Cerdic & his son Cynric\n",
      "Name:  Question, Length: 1093, dtype: object\n"
     ]
    }
   ],
   "source": [
    "search_strings = ['England']\n",
    "filtered_questions = filter_questions_by_keywords(df, ' Question', search_strings)\n",
    "print(filtered_questions)"
   ]
  },
  {
   "cell_type": "markdown",
   "metadata": {},
   "source": [
    "3. Test your original function with a few different sets of words to try to find some ways your function breaks. Edit your function so it is more robust.\n",
    "\n",
    "   For example, think about capitalization. We probably want to find questions that contain the word `\"King\"` or `\"king\"`.\n",
    "   \n",
    "   You may also want to check to make sure you don't find rows that contain substrings of your given words. For example, our function found a question that didn't contain the word `\"king\"`, however it did contain the word `\"viking\"` &mdash; it found the `\"king\"` inside `\"viking\"`. Note that this also comes with some drawbacks &mdash; you would no longer find questions that contained words like `\"England's\"`."
   ]
  },
  {
   "cell_type": "code",
   "execution_count": null,
   "metadata": {},
   "outputs": [],
   "source": []
  },
  {
   "cell_type": "markdown",
   "metadata": {},
   "source": [
    "4. We may want to eventually compute aggregate statistics, like `.mean()` on the `\" Value\"` column. But right now, the values in that column are strings. Convert the`\" Value\"` column to floats. If you'd like to, you can create a new column with float values.\n",
    "\n",
    "   While most of the values in the `\" Value\"` column represent a dollar amount as a string, note that some do not &mdash; these values will need to be handled differently!\n",
    "\n",
    "   Now that you can filter the dataset of question, use your new column that contains the float values of each question to find the \"difficulty\" of certain topics. For example, what is the average value of questions that contain the word `\"King\"`?\n",
    "   \n",
    "   Make sure to use the dataset that contains the float values as the dataset you use in your filtering function."
   ]
  },
  {
   "cell_type": "code",
   "execution_count": 4,
   "metadata": {},
   "outputs": [
    {
     "data": {
      "text/plain": [
       "0    $200\n",
       "1    $200\n",
       "2    $200\n",
       "3    $200\n",
       "4    $200\n",
       "5    $200\n",
       "6    $400\n",
       "7    $400\n",
       "8    $400\n",
       "9    $400\n",
       "Name:  Value, dtype: object"
      ]
     },
     "execution_count": 4,
     "metadata": {},
     "output_type": "execute_result"
    }
   ],
   "source": [
    "df[' Value'].head(10)"
   ]
  },
  {
   "cell_type": "code",
   "execution_count": null,
   "metadata": {},
   "outputs": [],
   "source": [
    "set(df[~df[' Value'].str.contains(r'\\$', regex=True)][' Value'])"
   ]
  },
  {
   "cell_type": "code",
   "execution_count": 8,
   "metadata": {},
   "outputs": [],
   "source": [
    "df[' Value'] = df[' Value'].str.replace(r'\\$', '', regex=True)"
   ]
  },
  {
   "cell_type": "code",
   "execution_count": 13,
   "metadata": {},
   "outputs": [],
   "source": [
    "df[' Value'] = df[' Value'].apply(lambda x: None if x == 'no value' else float(x.replace(',', '')))"
   ]
  },
  {
   "cell_type": "code",
   "execution_count": 28,
   "metadata": {},
   "outputs": [
    {
     "data": {
      "text/plain": [
       " Value\n",
       "400.0      42244\n",
       "800.0      31860\n",
       "200.0      30455\n",
       "1000.0     21640\n",
       "600.0      20377\n",
       "           ...  \n",
       "5401.0         1\n",
       "1183.0         1\n",
       "1203.0         1\n",
       "11600.0        1\n",
       "11200.0        1\n",
       "Name: count, Length: 145, dtype: int64"
      ]
     },
     "execution_count": 28,
     "metadata": {},
     "output_type": "execute_result"
    }
   ],
   "source": [
    "df[' Value'].dropna().value_counts()"
   ]
  },
  {
   "cell_type": "code",
   "execution_count": 26,
   "metadata": {},
   "outputs": [
    {
     "data": {
      "text/plain": [
       "817.6001483679526"
      ]
     },
     "execution_count": 26,
     "metadata": {},
     "output_type": "execute_result"
    }
   ],
   "source": [
    "search_strings = ['King']\n",
    "filtered_questions = filter_questions_by_keywords(df, ' Question', search_strings)\n",
    "filtered_questions[' Value'].mean()"
   ]
  },
  {
   "cell_type": "markdown",
   "metadata": {},
   "source": [
    "5. Write a function that returns the count of unique answers to all of the questions in a dataset. For example, after filtering the entire dataset to only questions containing the word `\"King\"`, we could then find all of the unique answers to those questions. The answer \"Henry VIII\" appeared 55 times and was the most common answer."
   ]
  },
  {
   "cell_type": "code",
   "execution_count": 4,
   "metadata": {},
   "outputs": [],
   "source": [
    "import string\n",
    "\n",
    "# Function to convert to lowercase and remove punctuation\n",
    "def to_lowercase_and_remove_punctuation(text):\n",
    "    return text.lower().translate(str.maketrans('', '', string.punctuation))"
   ]
  },
  {
   "cell_type": "code",
   "execution_count": 33,
   "metadata": {},
   "outputs": [],
   "source": [
    "answer_counts = filtered_questions[' Answer'].apply(to_lowercase_and_remove_punctuation).value_counts()\n",
    "answer_counts"
   ]
  },
  {
   "cell_type": "markdown",
   "metadata": {},
   "source": [
    "6. Explore from here! This is an incredibly rich dataset, and there are so many interesting things to discover. There are a few columns that we haven't even started looking at yet. Here are some ideas on ways to continue working with this data:"
   ]
  },
  {
   "cell_type": "markdown",
   "metadata": {},
   "source": [
    "Investigate the ways in which questions change over time by filtering by the date. How many questions from the 90s use the word `\"Computer\"` compared to questions from the 2000s?"
   ]
  },
  {
   "cell_type": "code",
   "execution_count": 36,
   "metadata": {},
   "outputs": [],
   "source": [
    "df[' Air Date'] = pd.to_datetime(df[' Air Date'])\n",
    "df[' Air Year'] = df[' Air Date'].dt.year"
   ]
  },
  {
   "cell_type": "code",
   "execution_count": 39,
   "metadata": {},
   "outputs": [
    {
     "name": "stderr",
     "output_type": "stream",
     "text": [
      "C:\\Users\\Dave\\AppData\\Local\\Temp\\ipykernel_6320\\407787948.py:2: SettingWithCopyWarning: \n",
      "A value is trying to be set on a copy of a slice from a DataFrame.\n",
      "Try using .loc[row_indexer,col_indexer] = value instead\n",
      "\n",
      "See the caveats in the documentation: https://pandas.pydata.org/pandas-docs/stable/user_guide/indexing.html#returning-a-view-versus-a-copy\n",
      "  filtered_questions['Decade'] = (filtered_questions[' Air Year'] // 10) * 10\n"
     ]
    },
    {
     "data": {
      "text/plain": [
       "Decade\n",
       "1980      5\n",
       "1990     79\n",
       "2000    227\n",
       "2010     51\n",
       "Name: count, dtype: int64"
      ]
     },
     "execution_count": 39,
     "metadata": {},
     "output_type": "execute_result"
    }
   ],
   "source": [
    "filtered_questions = filter_questions_by_keywords(df, ' Question', ['Computer'])\n",
    "filtered_questions['Decade'] = (filtered_questions[' Air Year'] // 10) * 10\n",
    "filtered_questions['Decade'].value_counts().sort_index()"
   ]
  },
  {
   "cell_type": "markdown",
   "metadata": {},
   "source": [
    "Is there a connection between the round and the category? Are you more likely to find certain categories, like `\"Literature\"` in Single Jeopardy or Double Jeopardy?"
   ]
  },
  {
   "cell_type": "code",
   "execution_count": 46,
   "metadata": {},
   "outputs": [
    {
     "data": {
      "text/html": [
       "<div>\n",
       "<style scoped>\n",
       "    .dataframe tbody tr th:only-of-type {\n",
       "        vertical-align: middle;\n",
       "    }\n",
       "\n",
       "    .dataframe tbody tr th {\n",
       "        vertical-align: top;\n",
       "    }\n",
       "\n",
       "    .dataframe thead th {\n",
       "        text-align: right;\n",
       "    }\n",
       "</style>\n",
       "<table border=\"1\" class=\"dataframe\">\n",
       "  <thead>\n",
       "    <tr style=\"text-align: right;\">\n",
       "      <th>Round</th>\n",
       "      <th>Double Jeopardy!</th>\n",
       "      <th>Final Jeopardy!</th>\n",
       "      <th>Jeopardy!</th>\n",
       "      <th>Tiebreaker</th>\n",
       "    </tr>\n",
       "    <tr>\n",
       "      <th>Category</th>\n",
       "      <th></th>\n",
       "      <th></th>\n",
       "      <th></th>\n",
       "      <th></th>\n",
       "    </tr>\n",
       "  </thead>\n",
       "  <tbody>\n",
       "    <tr>\n",
       "      <th>A JIM CARREY FILM FESTIVAL</th>\n",
       "      <td>0.0</td>\n",
       "      <td>0.0</td>\n",
       "      <td>5.0</td>\n",
       "      <td>0.0</td>\n",
       "    </tr>\n",
       "    <tr>\n",
       "      <th>\"!\"</th>\n",
       "      <td>0.0</td>\n",
       "      <td>0.0</td>\n",
       "      <td>5.0</td>\n",
       "      <td>0.0</td>\n",
       "    </tr>\n",
       "    <tr>\n",
       "      <th>\"-ARES\"</th>\n",
       "      <td>5.0</td>\n",
       "      <td>0.0</td>\n",
       "      <td>0.0</td>\n",
       "      <td>0.0</td>\n",
       "    </tr>\n",
       "    <tr>\n",
       "      <th>\"-ICIAN\" EXPEDITION</th>\n",
       "      <td>0.0</td>\n",
       "      <td>0.0</td>\n",
       "      <td>5.0</td>\n",
       "      <td>0.0</td>\n",
       "    </tr>\n",
       "    <tr>\n",
       "      <th>\"...OD\" WORDS</th>\n",
       "      <td>5.0</td>\n",
       "      <td>0.0</td>\n",
       "      <td>0.0</td>\n",
       "      <td>0.0</td>\n",
       "    </tr>\n",
       "    <tr>\n",
       "      <th>...</th>\n",
       "      <td>...</td>\n",
       "      <td>...</td>\n",
       "      <td>...</td>\n",
       "      <td>...</td>\n",
       "    </tr>\n",
       "    <tr>\n",
       "      <th>“R” MOVIES</th>\n",
       "      <td>5.0</td>\n",
       "      <td>0.0</td>\n",
       "      <td>0.0</td>\n",
       "      <td>0.0</td>\n",
       "    </tr>\n",
       "    <tr>\n",
       "      <th>“SAINTS”</th>\n",
       "      <td>4.0</td>\n",
       "      <td>0.0</td>\n",
       "      <td>0.0</td>\n",
       "      <td>0.0</td>\n",
       "    </tr>\n",
       "    <tr>\n",
       "      <th>“SOUTH”</th>\n",
       "      <td>5.0</td>\n",
       "      <td>0.0</td>\n",
       "      <td>0.0</td>\n",
       "      <td>0.0</td>\n",
       "    </tr>\n",
       "    <tr>\n",
       "      <th>“STREETS”</th>\n",
       "      <td>0.0</td>\n",
       "      <td>0.0</td>\n",
       "      <td>5.0</td>\n",
       "      <td>0.0</td>\n",
       "    </tr>\n",
       "    <tr>\n",
       "      <th>“WH”AT IS IT?</th>\n",
       "      <td>5.0</td>\n",
       "      <td>0.0</td>\n",
       "      <td>0.0</td>\n",
       "      <td>0.0</td>\n",
       "    </tr>\n",
       "  </tbody>\n",
       "</table>\n",
       "<p>27995 rows × 4 columns</p>\n",
       "</div>"
      ],
      "text/plain": [
       " Round                       Double Jeopardy!  Final Jeopardy!  Jeopardy!  \\\n",
       " Category                                                                   \n",
       " A JIM CARREY FILM FESTIVAL               0.0              0.0        5.0   \n",
       "\"!\"                                       0.0              0.0        5.0   \n",
       "\"-ARES\"                                   5.0              0.0        0.0   \n",
       "\"-ICIAN\" EXPEDITION                       0.0              0.0        5.0   \n",
       "\"...OD\" WORDS                             5.0              0.0        0.0   \n",
       "...                                       ...              ...        ...   \n",
       "“R” MOVIES                                5.0              0.0        0.0   \n",
       "“SAINTS”                                  4.0              0.0        0.0   \n",
       "“SOUTH”                                   5.0              0.0        0.0   \n",
       "“STREETS”                                 0.0              0.0        5.0   \n",
       "“WH”AT IS IT?                             5.0              0.0        0.0   \n",
       "\n",
       " Round                       Tiebreaker  \n",
       " Category                                \n",
       " A JIM CARREY FILM FESTIVAL         0.0  \n",
       "\"!\"                                 0.0  \n",
       "\"-ARES\"                             0.0  \n",
       "\"-ICIAN\" EXPEDITION                 0.0  \n",
       "\"...OD\" WORDS                       0.0  \n",
       "...                                 ...  \n",
       "“R” MOVIES                          0.0  \n",
       "“SAINTS”                            0.0  \n",
       "“SOUTH”                             0.0  \n",
       "“STREETS”                           0.0  \n",
       "“WH”AT IS IT?                       0.0  \n",
       "\n",
       "[27995 rows x 4 columns]"
      ]
     },
     "execution_count": 46,
     "metadata": {},
     "output_type": "execute_result"
    }
   ],
   "source": [
    "category_round = df.groupby([' Category', ' Round']).size().reset_index(name='counts')\n",
    "category_round_pivot = category_round.pivot(index=' Category', columns=' Round', values='counts').fillna(0)\n",
    "category_round_pivot"
   ]
  },
  {
   "cell_type": "code",
   "execution_count": 47,
   "metadata": {},
   "outputs": [],
   "source": [
    "category_round_pivot['Top Round'] = category_round_pivot.idxmax(axis=1)"
   ]
  },
  {
   "cell_type": "code",
   "execution_count": 50,
   "metadata": {},
   "outputs": [
    {
     "data": {
      "text/plain": [
       " Round\n",
       "Double Jeopardy!               381.0\n",
       "Final Jeopardy!                 10.0\n",
       "Jeopardy!                      105.0\n",
       "Tiebreaker                       0.0\n",
       "Top Round           Double Jeopardy!\n",
       "Name: LITERATURE, dtype: object"
      ]
     },
     "execution_count": 50,
     "metadata": {},
     "output_type": "execute_result"
    }
   ],
   "source": [
    "category_round_pivot.loc['LITERATURE']"
   ]
  },
  {
   "cell_type": "markdown",
   "metadata": {},
   "source": [
    "Build a system to quiz yourself. Grab random questions, and use the <a href=\"https://docs.python.org/3/library/functions.html#input\">input</a> function to get a response from the user. Check to see if that response was right or wrong."
   ]
  },
  {
   "cell_type": "code",
   "execution_count": 5,
   "metadata": {},
   "outputs": [],
   "source": [
    "from IPython.display import display, HTML, clear_output\n",
    "import ipywidgets as widgets"
   ]
  },
  {
   "cell_type": "code",
   "execution_count": 15,
   "metadata": {},
   "outputs": [
    {
     "data": {
      "application/vnd.jupyter.widget-view+json": {
       "model_id": "803a3d0aa571448bb9269d4543f7e8f5",
       "version_major": 2,
       "version_minor": 0
      },
      "text/plain": [
       "VBox(children=(HTML(value=''), HBox(children=(Text(value='', description='Your answer:', placeholder='Type you…"
      ]
     },
     "metadata": {},
     "output_type": "display_data"
    },
    {
     "name": "stdout",
     "output_type": "stream",
     "text": [
      "Incorrect! The correct answer was: Portugal\n",
      "Incorrect! The correct answer was: American Ballet Theatre\n",
      "Incorrect! The correct answer was: English\n"
     ]
    }
   ],
   "source": [
    "# Function to convert to lowercase and remove punctuation\n",
    "def to_lowercase_and_remove_punctuation(text):\n",
    "    return text.lower().translate(str.maketrans('', '', string.punctuation))\n",
    "\n",
    "# Function to display a new question\n",
    "def display_new_question():\n",
    "    global question\n",
    "    question = df.sample(1)\n",
    "    question_display.value = f\"<strong>{question[' Question'].values[0]}</strong>\"\n",
    "    answer_widget.value = ''\n",
    "\n",
    "# Create a widget to display the question\n",
    "question_display = widgets.HTML()\n",
    "\n",
    "# Create a text input widget\n",
    "answer_widget = widgets.Text(\n",
    "    value='',\n",
    "    placeholder='Type your answer',\n",
    "    description='Your answer:',\n",
    "    disabled=False\n",
    ")\n",
    "\n",
    "# Create a button widget\n",
    "submit_button = widgets.Button(\n",
    "    description='Submit',\n",
    "    disabled=False,\n",
    "    button_style='',\n",
    "    tooltip='Click to submit your answer',\n",
    "    icon='check'\n",
    ")\n",
    "\n",
    "# Create a button widget for displaying a new question\n",
    "new_question_button = widgets.Button(\n",
    "    description='New Question',\n",
    "    disabled=False,\n",
    "    button_style='',\n",
    "    tooltip='Click to get a new question',\n",
    "    icon='refresh'\n",
    ")\n",
    "\n",
    "# Create an HBox to display the text input widget and the submit button side by side\n",
    "hbox = widgets.HBox([answer_widget, submit_button])\n",
    "\n",
    "# Create a VBox to display the question, HBox, and new question button vertically\n",
    "vbox = widgets.VBox([question_display, hbox, new_question_button])\n",
    "\n",
    "# Display the VBox\n",
    "display(vbox)\n",
    "\n",
    "# Function to check the answer\n",
    "def check_answer(b):\n",
    "    answer = answer_widget.value\n",
    "    if to_lowercase_and_remove_punctuation(answer) == to_lowercase_and_remove_punctuation(question[' Answer'].values[0]):\n",
    "        print('Correct!')\n",
    "    else:\n",
    "        print(f'Incorrect! The correct answer was: {question[\" Answer\"].values[0]}')\n",
    "\n",
    "# Attach the check_answer function to the submit button's on_click event\n",
    "submit_button.on_click(check_answer)\n",
    "\n",
    "# Attach the display_new_question function to the new question button's on_click event\n",
    "new_question_button.on_click(lambda b: display_new_question())\n",
    "\n",
    "# Add an event listener to the answer_widget to submit the answer when Enter is pressed\n",
    "answer_widget.on_submit(check_answer)\n",
    "\n",
    "# Display the first question\n",
    "display_new_question()"
   ]
  },
  {
   "cell_type": "markdown",
   "metadata": {},
   "source": [
    "## Solution"
   ]
  },
  {
   "cell_type": "markdown",
   "metadata": {},
   "source": [
    "7. Compare your program to our <a href=\"https://content.codecademy.com/PRO/independent-practice-projects/jeopardy/jeopardy_solution.zip\">sample solution code</a> - remember, that your program might look different from ours (and probably will) and that's okay!"
   ]
  },
  {
   "cell_type": "markdown",
   "metadata": {},
   "source": [
    "8. Great work! Visit <a href=\"https://discuss.codecademy.com/t/this-is-jeopardy-challenge-project-python-pandas/462365\">our forums</a> to compare your project to our sample solution code. You can also learn how to host your own solution on GitHub so you can share it with other learners! Your solution might look different from ours, and that's okay! There are multiple ways to solve these projects, and you'll learn more by seeing others' code."
   ]
  },
  {
   "cell_type": "code",
   "execution_count": null,
   "metadata": {},
   "outputs": [],
   "source": []
  }
 ],
 "metadata": {
  "kernelspec": {
   "display_name": "Python 3 (ipykernel)",
   "language": "python",
   "name": "python3"
  },
  "language_info": {
   "codemirror_mode": {
    "name": "ipython",
    "version": 3
   },
   "file_extension": ".py",
   "mimetype": "text/x-python",
   "name": "python",
   "nbconvert_exporter": "python",
   "pygments_lexer": "ipython3",
   "version": "3.11.7"
  }
 },
 "nbformat": 4,
 "nbformat_minor": 2
}
